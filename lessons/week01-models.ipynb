{
  "nbformat": 4,
  "nbformat_minor": 0,
  "metadata": {
    "kernelspec": {
      "display_name": "Python 3",
      "language": "python",
      "name": "python3"
    },
    "language_info": {
      "codemirror_mode": {
        "name": "ipython",
        "version": 2
      },
      "file_extension": ".py",
      "mimetype": "text/x-python",
      "name": "python",
      "nbconvert_exporter": "python",
      "pygments_lexer": "ipython2",
      "version": "2.7.6"
    },
    "colab": {
      "provenance": [],
      "include_colab_link": true
    }
  },
  "cells": [
    {
      "cell_type": "markdown",
      "metadata": {
        "id": "view-in-github",
        "colab_type": "text"
      },
      "source": [
        "<a href=\"https://colab.research.google.com/github/Hamilton-at-CapU/comp215/blob/main/lessons/week01-models.ipynb\" target=\"_parent\"><img src=\"https://colab.research.google.com/assets/colab-badge.svg\" alt=\"Open In Colab\"/></a>"
      ]
    },
    {
      "cell_type": "markdown",
      "source": [
        "# Welcome to Comp 215!\n",
        "Our week 1 lesson workbook, available on Github from the [Hamilton-at-CapU/comp215](https://github.com/Hamilton-at-CapU/comp215) repository.\n",
        "\n",
        "As usual, the first code block just imports the modules we will use."
      ],
      "metadata": {
        "id": "WBMC0GrjNRTM"
      }
    },
    {
      "cell_type": "code",
      "execution_count": 2,
      "metadata": {
        "id": "C1a6aDXAM0WM",
        "ExecuteTime": {
          "end_time": "2023-12-30T22:13:40.129712Z",
          "start_time": "2023-12-30T22:13:40.123220Z"
        }
      },
      "outputs": [],
      "source": [
        "import matplotlib.pyplot as plt\n",
        "%matplotlib inline\n",
        "from pprint import pprint"
      ]
    },
    {
      "cell_type": "markdown",
      "source": [
        "## Using Code to gain insights\n",
        "\n",
        "How can a piece of code help us deepen our understanding of real-world phenomena?  Or explain complex concepts?"
      ],
      "metadata": {
        "id": "Cdg6xKGpLSh2"
      }
    },
    {
      "cell_type": "markdown",
      "source": [
        "\n",
        "### Duckweed Example\n",
        "Duckweed plants double every day in open water. If a pond starts with 2 duckweed plants on day 1 and is completely covered after one month (30 days), on what day is the pond half covered?"
      ],
      "metadata": {
        "id": "k70NJ-JTNwYN"
      }
    },
    {
      "cell_type": "code",
      "source": [
        "# code a model of the duckweed plant growth on the pond to answer the question\n",
        "\n",
        "n_plants = 2\n",
        "days = []\n",
        "n_plants_list = []\n",
        "\n",
        "for day in range(2, 31):\n",
        "  n_plants = 2*n_plants\n",
        "  days.append(day)\n",
        "  n_plants_list.append(n_plants)"
      ],
      "metadata": {
        "id": "HZSz8IftqJ72",
        "ExecuteTime": {
          "end_time": "2023-12-30T22:13:40.133647Z",
          "start_time": "2023-12-30T22:13:40.126167Z"
        }
      },
      "execution_count": 3,
      "outputs": []
    },
    {
      "cell_type": "code",
      "source": [
        "pprint(n_plants_list)"
      ],
      "metadata": {
        "id": "YutNcLg2jYXx",
        "outputId": "1aac035f-81bb-40a5-b6cb-28814363e428",
        "colab": {
          "base_uri": "https://localhost:8080/"
        }
      },
      "execution_count": 9,
      "outputs": [
        {
          "output_type": "stream",
          "name": "stdout",
          "text": [
            "[4,\n",
            " 8,\n",
            " 16,\n",
            " 32,\n",
            " 64,\n",
            " 128,\n",
            " 256,\n",
            " 512,\n",
            " 1024,\n",
            " 2048,\n",
            " 4096,\n",
            " 8192,\n",
            " 16384,\n",
            " 32768,\n",
            " 65536,\n",
            " 131072,\n",
            " 262144,\n",
            " 524288,\n",
            " 1048576,\n",
            " 2097152,\n",
            " 4194304,\n",
            " 8388608,\n",
            " 16777216,\n",
            " 33554432,\n",
            " 67108864,\n",
            " 134217728,\n",
            " 268435456,\n",
            " 536870912,\n",
            " 1073741824]\n"
          ]
        }
      ]
    },
    {
      "cell_type": "markdown",
      "source": [
        "### Plot the Growth\n",
        "We'll use matplotlib for data visualizations throughout the coure, not because it is awesome, but because it is the standard tool used by computational and data scientists."
      ],
      "metadata": {
        "id": "b6w3F2yErxuB"
      }
    },
    {
      "cell_type": "code",
      "source": [
        "# ask ChatGPT to give you an example of a simple example of a matplotlib graph\n",
        "# use the response to plot your duckweek growth model\n",
        "\n",
        "# Create a simple line plot\n",
        "plt.plot(days, n_plants_list)\n",
        "\n",
        "# Add a title and labels\n",
        "plt.title('duckweed')\n",
        "plt.xlabel('days')\n",
        "plt.ylabel('number of duckweed plants')\n",
        "\n",
        "# Show the plot\n",
        "plt.show()\n"
      ],
      "metadata": {
        "id": "i_5lOF51r63i",
        "ExecuteTime": {
          "end_time": "2023-12-30T22:39:25.831093Z",
          "start_time": "2023-12-30T22:39:25.730333Z"
        },
        "outputId": "0347f7d3-87cf-4aae-9885-3b6dc815b4c8",
        "colab": {
          "base_uri": "https://localhost:8080/",
          "height": 472
        }
      },
      "execution_count": 4,
      "outputs": [
        {
          "output_type": "display_data",
          "data": {
            "text/plain": [
              "<Figure size 640x480 with 1 Axes>"
            ],
            "image/png": "[encoded data removed]"
          },
          "metadata": {}
        }
      ]
    },
    {
      "cell_type": "markdown",
      "source": [
        "### Exponential Growth\n",
        "Yes, this is just a simple example of exponential growth.  Although exponential growth occurs in many natural systems, many people find it unintuitive and have a hard time making predictions about it.  Describing duckweed spread on a pond as 'exponential growth' is simply applying an exponential function to the amount of duckweek as a function of time.  This model is (of course) not exactly correct, but is predicts the future amount of duckweek quite well - so it considered useful."
      ],
      "metadata": {
        "id": "4pzxO680MA3J"
      }
    }
  ]
}